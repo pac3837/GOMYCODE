{
 "cells": [
  {
   "cell_type": "code",
   "execution_count": 8,
   "id": "3e35d403",
   "metadata": {},
   "outputs": [
    {
     "name": "stdout",
     "output_type": "stream",
     "text": [
      "donner un nombre de ligne :3\n",
      "donner un nombre de colone :2\n",
      "donner un nombre de liste :6\n",
      "[[0, 1], [2, 3], [4, 5]]\n"
     ]
    }
   ],
   "source": [
    "a=int(input(\"donner un nombre de ligne :\")) \n",
    "b=int(input(\"donner un nombre de colone :\")) \n",
    "c=int(input(\"donner un nombre de liste :\"))\n",
    "k=np.arange(c).reshape(a,b)\n",
    "l=k.tolist()\n",
    "print(l)"
   ]
  },
  {
   "cell_type": "code",
   "execution_count": 2,
   "id": "2c163a78",
   "metadata": {},
   "outputs": [
    {
     "name": "stdout",
     "output_type": "stream",
     "text": [
      "your array: [[2.66550947 7.29114088 3.66907855]\n",
      " [8.72840311 4.97182272 5.79167279]\n",
      " [4.0278979  3.20303427 3.53516655]]\n",
      "[2.66550947 4.97182272 3.53516655]\n",
      "11.172498736928382\n"
     ]
    }
   ],
   "source": [
    "import numpy as np \n",
    "array=np.random.uniform(2,10,size=(3,3))\n",
    "x=np.diagonal(array)\n",
    "print(\"your array:\",array)\n",
    "print(x)\n",
    "print(sum(x))"
   ]
  },
  {
   "cell_type": "code",
   "execution_count": 8,
   "id": "6f059796",
   "metadata": {},
   "outputs": [
    {
     "name": "stdout",
     "output_type": "stream",
     "text": [
      "the values higher than x; [15  5]\n"
     ]
    }
   ],
   "source": [
    "import numpy as np \n",
    "e=np.array([[15,2],[3,5]])\n",
    "x=3\n",
    "print(\"the values higher than x;\",e[e>x])"
   ]
  },
  {
   "cell_type": "code",
   "execution_count": 9,
   "id": "a7fc33c8",
   "metadata": {},
   "outputs": [
    {
     "data": {
      "text/plain": [
       "array([ 6, 28, 21, 28])"
      ]
     },
     "execution_count": 9,
     "metadata": {},
     "output_type": "execute_result"
    }
   ],
   "source": [
    "import numpy as np\n",
    "a=np.array([1,7,6,25])\n",
    "b=np.array([5,21,15,3])\n",
    "c=np.array(a+b)\n",
    "c"
   ]
  },
  {
   "cell_type": "code",
   "execution_count": 35,
   "id": "38d127bd",
   "metadata": {},
   "outputs": [
    {
     "name": "stdout",
     "output_type": "stream",
     "text": [
      "23.5\n"
     ]
    }
   ],
   "source": [
    "import numpy \n",
    "x=[12,35]\n",
    "x=numpy.mean(x)\n",
    "print(x)\n",
    "\n"
   ]
  },
  {
   "cell_type": "code",
   "execution_count": null,
   "id": "5dcced75",
   "metadata": {},
   "outputs": [],
   "source": []
  },
  {
   "cell_type": "code",
   "execution_count": null,
   "id": "e258c326",
   "metadata": {},
   "outputs": [],
   "source": []
  }
 ],
 "metadata": {
  "kernelspec": {
   "display_name": "Python 3",
   "language": "python",
   "name": "python3"
  },
  "language_info": {
   "codemirror_mode": {
    "name": "ipython",
    "version": 3
   },
   "file_extension": ".py",
   "mimetype": "text/x-python",
   "name": "python",
   "nbconvert_exporter": "python",
   "pygments_lexer": "ipython3",
   "version": "3.8.8"
  }
 },
 "nbformat": 4,
 "nbformat_minor": 5
}
