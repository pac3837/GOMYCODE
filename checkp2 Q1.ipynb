{
 "cells": [
  {
   "cell_type": "code",
   "execution_count": 1,
   "id": "35a0154f",
   "metadata": {},
   "outputs": [
    {
     "name": "stdout",
     "output_type": "stream",
     "text": [
      "Enter your first name: mouhamed\n",
      "enter your last name: zaheg\n",
      "zaheg mouhamed\n"
     ]
    }
   ],
   "source": [
    "firstName = input(\"Enter your first name: \") \n",
    "lastName=input(\"enter your last name: \")\n",
    "print(lastName + \" \" + firstName)"
   ]
  },
  {
   "cell_type": "code",
   "execution_count": 3,
   "id": "f5990df5",
   "metadata": {},
   "outputs": [
    {
     "name": "stdout",
     "output_type": "stream",
     "text": [
      "Enter a number5\n",
      "result: 615\n"
     ]
    }
   ],
   "source": [
    "n=int(input(\"Enter a number\"))\n",
    "val1=n\n",
    "val2=n*11\n",
    "val3=n*111\n",
    "print(\"result:\",val1+val2+val3)"
   ]
  }
 ],
 "metadata": {
  "kernelspec": {
   "display_name": "Python 3",
   "language": "python",
   "name": "python3"
  },
  "language_info": {
   "codemirror_mode": {
    "name": "ipython",
    "version": 3
   },
   "file_extension": ".py",
   "mimetype": "text/x-python",
   "name": "python",
   "nbconvert_exporter": "python",
   "pygments_lexer": "ipython3",
   "version": "3.8.8"
  }
 },
 "nbformat": 4,
 "nbformat_minor": 5
}
