{
 "cells": [
  {
   "cell_type": "code",
   "execution_count": null,
   "id": "7eac2e2b",
   "metadata": {},
   "outputs": [
    {
     "name": "stdout",
     "output_type": "stream",
     "text": [
      "enter the countdown lenght in seconds : 80\n",
      "0:58\r"
     ]
    }
   ],
   "source": [
    "import time\n",
    "\n",
    "def countdown(t):\n",
    "    while t >= 0:\n",
    "        minutes, seconds = divmod(t, 60)\n",
    "        timeformat = str(minutes) + \":\" + str(seconds)\n",
    "        print(timeformat, end = '\\r' )\n",
    "        t-=1\n",
    "        time.sleep(1)\n",
    "    print (\"Fire in the hole\")\n",
    "\n",
    "countdown(int(input(\"enter the countdown lenght in seconds : \")))"
   ]
  }
 ],
 "metadata": {
  "kernelspec": {
   "display_name": "Python 3",
   "language": "python",
   "name": "python3"
  },
  "language_info": {
   "codemirror_mode": {
    "name": "ipython",
    "version": 3
   },
   "file_extension": ".py",
   "mimetype": "text/x-python",
   "name": "python",
   "nbconvert_exporter": "python",
   "pygments_lexer": "ipython3",
   "version": "3.8.8"
  }
 },
 "nbformat": 4,
 "nbformat_minor": 5
}
