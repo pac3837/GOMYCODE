{
 "cells": [
  {
   "cell_type": "code",
   "execution_count": 17,
   "id": "913b4524",
   "metadata": {},
   "outputs": [
    {
     "name": "stdout",
     "output_type": "stream",
     "text": [
      "35\n"
     ]
    }
   ],
   "source": [
    "#question1\n",
    "def n(a, b, c):\n",
    "    return max(a, b, c)\n",
    "print (n(20, 35, 19))"
   ]
  },
  {
   "cell_type": "code",
   "execution_count": 18,
   "id": "eac8fa58",
   "metadata": {},
   "outputs": [
    {
     "data": {
      "text/plain": [
       "30"
      ]
     },
     "execution_count": 18,
     "metadata": {},
     "output_type": "execute_result"
    }
   ],
   "source": [
    "#question2\n",
    "def k (a,b):\n",
    "    n=a-b\n",
    "    return(n)\n",
    "k(40,10)"
   ]
  },
  {
   "cell_type": "code",
   "execution_count": 35,
   "id": "ba295cec",
   "metadata": {},
   "outputs": [
    {
     "data": {
      "text/plain": [
       "50"
      ]
     },
     "execution_count": 35,
     "metadata": {},
     "output_type": "execute_result"
    }
   ],
   "source": [
    "def l(a,b):\n",
    "    n=a+b\n",
    "    return(n)\n",
    "l(40,10)"
   ]
  },
  {
   "cell_type": "code",
   "execution_count": 38,
   "id": "ec857133",
   "metadata": {},
   "outputs": [
    {
     "name": "stdout",
     "output_type": "stream",
     "text": [
      "[50, 30]\n"
     ]
    }
   ],
   "source": [
    "\n",
    "list=[50,30]\n",
    "print(list)"
   ]
  },
  {
   "cell_type": "code",
   "execution_count": null,
   "id": "15bb78fb",
   "metadata": {
    "scrolled": false
   },
   "outputs": [],
   "source": []
  },
  {
   "cell_type": "code",
   "execution_count": 30,
   "id": "82a1350b",
   "metadata": {},
   "outputs": [
    {
     "data": {
      "text/plain": [
       "9"
      ]
     },
     "execution_count": 30,
     "metadata": {},
     "output_type": "execute_result"
    }
   ],
   "source": [
    "#question3\n",
    "def sum (l1):\n",
    "    n=0\n",
    "    for i in range(len(l1)):\n",
    "        n=n+l1[i]\n",
    "    return n\n",
    "kgb=[1,6,2]\n",
    "sum (kgb)"
   ]
  },
  {
   "cell_type": "code",
   "execution_count": 32,
   "id": "9c14b3e7",
   "metadata": {
    "scrolled": true
   },
   "outputs": [
    {
     "data": {
      "text/plain": [
       "0"
      ]
     },
     "execution_count": 32,
     "metadata": {},
     "output_type": "execute_result"
    }
   ],
   "source": [
    "def multiple(l2):\n",
    "    n=0\n",
    "    for i in range(len(l2)):\n",
    "        n=n*l2[i]\n",
    "    return n\n",
    "ahj=[1,6,2]\n",
    "multiple(ahj)\n"
   ]
  },
  {
   "cell_type": "code",
   "execution_count": 19,
   "id": "01daa762",
   "metadata": {},
   "outputs": [
    {
     "name": "stdout",
     "output_type": "stream",
     "text": [
      "green-red-yellow-black-white\n",
      "black,green,red,white,yellow\n"
     ]
    }
   ],
   "source": [
    "\n",
    "#question4\n",
    "items=[n for n in input().split('-')]\n",
    "items.sort()\n",
    "print(','.join(items))"
   ]
  },
  {
   "cell_type": "code",
   "execution_count": 20,
   "id": "1a46a934",
   "metadata": {},
   "outputs": [
    {
     "name": "stdout",
     "output_type": "stream",
     "text": [
      "100\n",
      "[18]\n"
     ]
    }
   ],
   "source": [
    "\n",
    "#question5\n",
    "import math\n",
    "d=50\n",
    "h=30\n",
    "value = []\n",
    "a=(input())\n",
    "a=a.split()\n",
    "for i in a:\n",
    "    q=round(math.sqrt(2*d*int(i) / h))\n",
    "    value.append(q)\n",
    "    print(value)"
   ]
  },
  {
   "cell_type": "code",
   "execution_count": null,
   "id": "30d12abf",
   "metadata": {},
   "outputs": [],
   "source": []
  }
 ],
 "metadata": {
  "kernelspec": {
   "display_name": "Python 3",
   "language": "python",
   "name": "python3"
  },
  "language_info": {
   "codemirror_mode": {
    "name": "ipython",
    "version": 3
   },
   "file_extension": ".py",
   "mimetype": "text/x-python",
   "name": "python",
   "nbconvert_exporter": "python",
   "pygments_lexer": "ipython3",
   "version": "3.8.8"
  }
 },
 "nbformat": 4,
 "nbformat_minor": 5
}
