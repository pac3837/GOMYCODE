{
 "cells": [
  {
   "cell_type": "code",
   "execution_count": 3,
   "id": "75a30d26",
   "metadata": {},
   "outputs": [
    {
     "ename": "SyntaxError",
     "evalue": "invalid syntax (<ipython-input-3-688cc9fe34a5>, line 6)",
     "output_type": "error",
     "traceback": [
      "\u001b[1;36m  File \u001b[1;32m\"<ipython-input-3-688cc9fe34a5>\"\u001b[1;36m, line \u001b[1;32m6\u001b[0m\n\u001b[1;33m    syntax error\u001b[0m\n\u001b[1;37m           ^\u001b[0m\n\u001b[1;31mSyntaxError\u001b[0m\u001b[1;31m:\u001b[0m invalid syntax\n"
     ]
    }
   ],
   "source": [
    "mylist=[14, \"hello\", 967]\n",
    "mylist[2]\n",
    "\n",
    "import pandas\n",
    "import numpy\n",
    "syntax error\n",
    "\n",
    "print(\"python errors\")\n",
    "python errors\n",
    "key error\n",
    "\n",
    "\n",
    "\n",
    "mydictionnary={True:\"hello\",False:\"bye\", '3':\"python\"}\n",
    "mydictionnary[True]\n",
    "\n",
    "\n",
    "i=14\n",
    "while i<78:\n",
    "    print(i)\n",
    "    i+=1\n",
    "\n",
    "\n",
    "it=iter([1,2,3])\n",
    "next(it)\n",
    "\n",
    "\n",
    "15+15\n",
    "\n",
    "\n",
    "str('python')\n",
    "\n",
    "\n",
    "python = 2\n",
    "print(python)\n",
    "\n",
    "\n",
    "x=19/2\n",
    "print(x)\n"
   ]
  }
 ],
 "metadata": {
  "kernelspec": {
   "display_name": "Python 3",
   "language": "python",
   "name": "python3"
  },
  "language_info": {
   "codemirror_mode": {
    "name": "ipython",
    "version": 3
   },
   "file_extension": ".py",
   "mimetype": "text/x-python",
   "name": "python",
   "nbconvert_exporter": "python",
   "pygments_lexer": "ipython3",
   "version": "3.8.8"
  }
 },
 "nbformat": 4,
 "nbformat_minor": 5
}
