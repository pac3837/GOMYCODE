{
 "cells": [
  {
   "cell_type": "code",
   "execution_count": 32,
   "id": "bbb8ce80",
   "metadata": {},
   "outputs": [
    {
     "name": "stdout",
     "output_type": "stream",
     "text": [
      "1\n",
      "What is Python language?                                                \n",
      "\n",
      "1\n",
      "Python supports multiple programming paradigms, including object-oriented, imperative and functional programming or procedural styles. It features a dynamic type system and automatic memory management and has a large and comprehensive standard library.The best way we learn anything is by practice and exercise questions. We  have started this section for those (beginner to intermediate) who are familiar with Python.\n",
      "choose your file path or file\n",
      "python.txt\n",
      "148\n"
     ]
    }
   ],
   "source": [
    "with open(\"python.txt\",encoding = 'utf-8') as f:\n",
    "\n",
    "    f = open(\"python.txt\",'r',encoding = 'utf-8')\n",
    "f.read()\n",
    "\n",
    "\n",
    "a_file = open(\"python.txt\")\n",
    "number_of_lines = int(input())\n",
    "for i in range(number_of_lines):\n",
    "    line = a_file. readline()\n",
    "print(line)\n",
    "\n",
    "\n",
    "\n",
    "n1 = int(input())\n",
    "def read_lastnlines(fname,n):\n",
    "    with open('python.txt') as f:\n",
    "        for line in (f.readlines() [-n:]):\n",
    "            print(line)\n",
    "read_lastnlines('python.txt',n1)\n",
    "\n",
    "\n",
    "\n",
    "print(\"choose your file path or file\")\n",
    "a = input()\n",
    "def count_words(filepath):\n",
    "    with open(filepath) as d:\n",
    "        data = d.read()\n",
    "        data.replace(\",\", \" \")\n",
    "        return len(data.split(\" \"))\n",
    "print(count_words(a))"
   ]
  },
  {
   "cell_type": "code",
   "execution_count": null,
   "id": "de265463",
   "metadata": {},
   "outputs": [],
   "source": []
  },
  {
   "cell_type": "code",
   "execution_count": null,
   "id": "fa6f0fa4",
   "metadata": {},
   "outputs": [],
   "source": []
  }
 ],
 "metadata": {
  "kernelspec": {
   "display_name": "Python 3",
   "language": "python",
   "name": "python3"
  },
  "language_info": {
   "codemirror_mode": {
    "name": "ipython",
    "version": 3
   },
   "file_extension": ".py",
   "mimetype": "text/x-python",
   "name": "python",
   "nbconvert_exporter": "python",
   "pygments_lexer": "ipython3",
   "version": "3.8.8"
  }
 },
 "nbformat": 4,
 "nbformat_minor": 5
}
