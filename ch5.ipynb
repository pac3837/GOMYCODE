{
 "cells": [
  {
   "cell_type": "code",
   "execution_count": 23,
   "id": "2e379158",
   "metadata": {},
   "outputs": [
    {
     "name": "stdout",
     "output_type": "stream",
     "text": [
      "x = 1 y= 2 z= 3\n"
     ]
    }
   ],
   "source": [
    "class Point3D:\n",
    "    def __init__(self,x,y,z):\n",
    "        self.x=x\n",
    "        self.y=y\n",
    "        self.z=z\n",
    "my_point=Point3D(1,2,3)\n",
    "print(\"x =\" ,my_point.x, \"y=\", my_point.y,\"z=\" ,my_point.z)"
   ]
  },
  {
   "cell_type": "code",
   "execution_count": 36,
   "id": "566e66a0",
   "metadata": {},
   "outputs": [
    {
     "name": "stdout",
     "output_type": "stream",
     "text": [
      "length=4  width=3\n",
      "<bound method Rectangle.rectangle_area of length=4  width=3>\n",
      "<bound method Rectangle.rectangle_perimeter of length=4  width=3>\n"
     ]
    }
   ],
   "source": [
    "class Rectangle:\n",
    "    def __init__(self,length,width):\n",
    "        self.length=length\n",
    "        self.width=width\n",
    "    def __repr__(self):\n",
    "        return \"length={}  width={}\"    .format(self.length, self.width)\n",
    "    def rectangle_area(self):\n",
    "        return \"area:4*3={}\"      .format(self.length*self.width)\n",
    "    def rectangle_perimeter (self):\n",
    "        return \"perimeter:(4+3)*2={}\" .format(2*(self.length+self.width))\n",
    "my_rectangle=Rectangle(4,3)\n",
    "print(my_rectangle)\n",
    "print(my_rectangle.rectangle_area)\n",
    "print(my_rectangle.rectangle_perimeter)"
   ]
  },
  {
   "cell_type": "code",
   "execution_count": 11,
   "id": "be130d21",
   "metadata": {},
   "outputs": [
    {
     "name": "stdout",
     "output_type": "stream",
     "text": [
      "78.5\n",
      "31.400000000000002\n"
     ]
    }
   ],
   "source": [
    "class Circle():\n",
    "    def __init__(self, r):\n",
    "        self.r= r\n",
    "    def area(self):\n",
    "        return self.r**2*3.14\n",
    "    def perimeter(self):\n",
    "        return 2*self.r*3.14\n",
    "Circleb= Circle(5)\n",
    "print(Circleb.area())\n",
    "print(Circleb.perimeter())"
   ]
  },
  {
   "cell_type": "code",
   "execution_count": null,
   "id": "c5c1ab1a",
   "metadata": {},
   "outputs": [],
   "source": []
  },
  {
   "cell_type": "code",
   "execution_count": null,
   "id": "af51eeb9",
   "metadata": {},
   "outputs": [],
   "source": []
  },
  {
   "cell_type": "code",
   "execution_count": null,
   "id": "39e5b791",
   "metadata": {},
   "outputs": [],
   "source": []
  },
  {
   "cell_type": "code",
   "execution_count": 48,
   "id": "c15792d9",
   "metadata": {},
   "outputs": [
    {
     "name": "stdout",
     "output_type": "stream",
     "text": [
      "deposit:1000,withdraw:600\n",
      "result=400\n"
     ]
    }
   ],
   "source": [
    "class Bank():\n",
    "    def __init__(self,deposit ,withdraw):\n",
    "        self.deposit=deposit\n",
    "        self.withdraw=withdraw\n",
    "    def deposit_withdraw (self):\n",
    "        return \"deposit:{},withdraw:{}\".format(self.deposit,self.withdraw)\n",
    "    def New_account(self):\n",
    "        return \"result={}\" .format(self.deposit-self.withdraw)\n",
    "val=Bank(1000,600)\n",
    "print(val.deposit_withdraw())\n",
    "print(val.New_account())\n"
   ]
  },
  {
   "cell_type": "code",
   "execution_count": 3,
   "id": "0330bd84",
   "metadata": {},
   "outputs": [],
   "source": []
  },
  {
   "cell_type": "code",
   "execution_count": null,
   "id": "a43bcff9",
   "metadata": {},
   "outputs": [],
   "source": []
  }
 ],
 "metadata": {
  "kernelspec": {
   "display_name": "Python 3",
   "language": "python",
   "name": "python3"
  },
  "language_info": {
   "codemirror_mode": {
    "name": "ipython",
    "version": 3
   },
   "file_extension": ".py",
   "mimetype": "text/x-python",
   "name": "python",
   "nbconvert_exporter": "python",
   "pygments_lexer": "ipython3",
   "version": "3.8.8"
  }
 },
 "nbformat": 4,
 "nbformat_minor": 5
}
